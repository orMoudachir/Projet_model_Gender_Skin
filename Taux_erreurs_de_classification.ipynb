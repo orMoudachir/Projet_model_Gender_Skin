{
 "cells": [
  {
   "cell_type": "code",
   "execution_count": 1,
   "id": "0339246d-faae-4ae0-9754-0b73ec640d10",
   "metadata": {},
   "outputs": [],
   "source": [
    "import pandas as pd"
   ]
  },
  {
   "cell_type": "markdown",
   "id": "f33dd1ec-7e11-4567-ba41-c07d519d72d8",
   "metadata": {},
   "source": [
    "## Calcul du taux d'erreur de classification pour chaque classe des images de generated.photos"
   ]
  },
  {
   "cell_type": "raw",
   "id": "2435aab5-c037-4e8b-8e57-965f2ffa7f65",
   "metadata": {},
   "source": [
    "Ce code chargera les données prédites par le modèle et les données annotées manuellement à partir des fichiers CSV, calculera le nombre d'erreurs pour chaque classe et ensuite calculera le pourcentage d'erreur de classification pour chaque classe. Enfin, il affichera les pourcentages d'erreur de classification pour chaque classe."
   ]
  },
  {
   "cell_type": "code",
   "execution_count": 82,
   "id": "ad11519c-dcb4-4427-a574-c127d0b33822",
   "metadata": {},
   "outputs": [
    {
     "name": "stdout",
     "output_type": "stream",
     "text": [
      "Pourcentage d'erreurs de classification pour la classe Darkest: 1.40%\n",
      "Pourcentage d'erreurs de classification pour la classe Light: 27.11%\n",
      "Pourcentage d'erreurs de classification pour la classe Average: 39.11%\n",
      "Pourcentage d'erreurs de classification pour la classe Lightest: 12.56%\n",
      "Pourcentage d'erreurs de classification pour la classe Dark: 56.13%\n"
     ]
    }
   ],
   "source": [
    "# Charger les fichiers CSV\n",
    "predictions = pd.read_csv('informations_images.csv')\n",
    "annotations = pd.read_csv('images_vrai_annotees.csv')\n",
    "# Vérifier que les deux fichiers ont le même nombre de lignes\n",
    "assert predictions.shape[0] == annotations.shape[0], \"Les fichiers n'ont pas le même nombre de lignes.\"\n",
    "\n",
    "# Trier les DataFrames par 'image' et réinitialiser les index\n",
    "predictions.sort_values(by='image', inplace=True)\n",
    "annotations.sort_values(by='image', inplace=True)\n",
    "predictions.reset_index(drop=True, inplace=True)\n",
    "annotations.reset_index(drop=True, inplace=True)\n",
    "\n",
    "# Vérifier que chaque 'image' correspond dans les deux DataFrames\n",
    "assert all(predictions['image'] == annotations['image']), \"Les images ne correspondent pas.\"\n",
    "\n",
    "# Mapper les valeurs numériques aux valeurs textuelles pour le genre\n",
    "mapping = {0: 'Female', 1: 'Male'}\n",
    "predictions['genre'] = predictions['genre'].map(mapping)\n",
    "\n",
    "# Initialiser les compteurs d'erreurs pour chaque classe de skin_color\n",
    "error_counts = {cls: 0 for cls in predictions['skin_color'].unique()}\n",
    "total_counts = {cls: 0 for cls in predictions['skin_color'].unique()}\n",
    "\n",
    "# Parcourir les lignes de chaque DataFrame et comparer les valeurs de skin_color\n",
    "for i in range(predictions.shape[0]):\n",
    "    pred_skin_color = predictions.loc[i, 'skin_color']\n",
    "    annot_skin_color = annotations.loc[i, 'skin_color']\n",
    "    \n",
    "    # Vérifier si les valeurs de skin_color sont différentes\n",
    "    if pred_skin_color != annot_skin_color:\n",
    "        error_counts[annot_skin_color] += 1\n",
    "    \n",
    "    total_counts[annot_skin_color] += 1\n",
    "\n",
    "# Calculer le pourcentage d'erreurs pour chaque classe de skin_color\n",
    "error_percentages = {cls: (error_counts[cls] / total_counts[cls]) * 100 for cls in error_counts}\n",
    "\n",
    "# Afficher les pourcentages d'erreurs pour chaque classe de skin_color\n",
    "for cls, error_percentage in error_percentages.items():\n",
    "    print(f'Pourcentage d\\'erreurs de classification pour la classe {cls}: {error_percentage:.2f}%')\n"
   ]
  },
  {
   "cell_type": "code",
   "execution_count": 78,
   "id": "3cf9bed9-8ad7-42ce-a936-e57d11aad0c5",
   "metadata": {},
   "outputs": [
    {
     "name": "stdout",
     "output_type": "stream",
     "text": [
      "Pourcentage d'erreurs de classification pour la classe Female: 5.90%\n",
      "Pourcentage d'erreurs de classification pour la classe Male: 7.53%\n"
     ]
    }
   ],
   "source": [
    "# Charger les fichiers CSV\n",
    "predictions = pd.read_csv('informations_images.csv')\n",
    "annotations = pd.read_csv('images_vrai_annotees.csv')\n",
    "# Vérifier que les deux fichiers ont le même nombre de lignes\n",
    "assert predictions.shape[0] == annotations.shape[0], \"Les fichiers n'ont pas le même nombre de lignes.\"\n",
    "\n",
    "# Trier les DataFrames par 'image' et réinitialiser les index\n",
    "predictions.sort_values(by='image', inplace=True)\n",
    "annotations.sort_values(by='image', inplace=True)\n",
    "predictions.reset_index(drop=True, inplace=True)\n",
    "annotations.reset_index(drop=True, inplace=True)\n",
    "\n",
    "# Vérifier que chaque 'image' correspond dans les deux DataFrames\n",
    "assert all(predictions['image'] == annotations['image']), \"Les images ne correspondent pas.\"\n",
    "\n",
    "# Mapper les valeurs numériques aux valeurs textuelles pour le genre\n",
    "mapping = {0: 'Female', 1: 'Male'}\n",
    "predictions['genre'] = predictions['genre'].map(mapping)\n",
    "\n",
    "# Initialiser les compteurs d'erreurs pour chaque classe de genre\n",
    "error_counts = {cls: 0 for cls in predictions['genre'].unique()}\n",
    "total_counts = {cls: 0 for cls in predictions['genre'].unique()}\n",
    "\n",
    "# Parcourir les lignes de chaque DataFrame et comparer les valeurs de genre\n",
    "for i in range(predictions.shape[0]):\n",
    "    pred_genre = predictions.loc[i, 'genre']\n",
    "    annot_genre = annotations.loc[i, 'genre']\n",
    "    \n",
    "    # Vérifier si les valeurs de genre sont différentes\n",
    "    if pred_genre != annot_genre:\n",
    "        error_counts[annot_genre] += 1\n",
    "    \n",
    "    total_counts[annot_genre] += 1\n",
    "\n",
    "# Calculer le pourcentage d'erreurs pour chaque classe de genre\n",
    "error_percentages = {cls: (error_counts[cls] / total_counts[cls]) * 100 for cls in error_counts}\n",
    "\n",
    "# Afficher les pourcentages d'erreurs pour chaque classe de genre\n",
    "for cls, error_percentage in error_percentages.items():\n",
    "    print(f'Pourcentage d\\'erreurs de classification pour la classe {cls}: {error_percentage:.2f}%')\n"
   ]
  },
  {
   "cell_type": "code",
   "execution_count": null,
   "id": "716a98f1-b782-4d2f-9cf4-e6b40981139c",
   "metadata": {},
   "outputs": [],
   "source": []
  },
  {
   "cell_type": "code",
   "execution_count": null,
   "id": "932b7a9a-493a-4173-aeae-513d4ba73604",
   "metadata": {},
   "outputs": [],
   "source": []
  }
 ],
 "metadata": {
  "kernelspec": {
   "display_name": "Python 3 (ipykernel)",
   "language": "python",
   "name": "python3"
  },
  "language_info": {
   "codemirror_mode": {
    "name": "ipython",
    "version": 3
   },
   "file_extension": ".py",
   "mimetype": "text/x-python",
   "name": "python",
   "nbconvert_exporter": "python",
   "pygments_lexer": "ipython3",
   "version": "3.12.0"
  }
 },
 "nbformat": 4,
 "nbformat_minor": 5
}
